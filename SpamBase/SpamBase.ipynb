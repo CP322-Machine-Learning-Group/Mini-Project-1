{
 "cells": [
  {
   "attachments": {},
   "cell_type": "markdown",
   "id": "d8f2e998",
   "metadata": {},
   "source": [
    "# Carseval.py"
   ]
  },
  {
   "attachments": {},
   "cell_type": "markdown",
   "id": "697de62c",
   "metadata": {},
   "source": [
    "# Imports"
   ]
  },
  {
   "cell_type": "code",
   "execution_count": 1,
   "id": "0dfd603d",
   "metadata": {},
   "outputs": [],
   "source": [
    "import pandas as pd\n",
    "import numpy as np\n",
    "import sys \n",
    "import matplotlib.pyplot as plt  \n",
    "\n",
    "from ucimlrepo import fetch_ucirepo, list_available_datasets\n",
    "\n",
    "# Check Which Dataset can be imported\n",
    "#list_available_datasets()"
   ]
  },
  {
   "cell_type": "markdown",
   "metadata": {},
   "source": [
    "## Open regression.py\n"
   ]
  },
  {
   "cell_type": "code",
   "execution_count": 2,
   "metadata": {},
   "outputs": [
    {
     "ename": "ModuleNotFoundError",
     "evalue": "No module named 'regression'",
     "output_type": "error",
     "traceback": [
      "\u001b[1;31m---------------------------------------------------------------------------\u001b[0m",
      "\u001b[1;31mModuleNotFoundError\u001b[0m                       Traceback (most recent call last)",
      "\u001b[1;32mc:\\Users\\ferna\\OneDrive\\Documents\\GitHub\\Mini-Project-1\\SpamBase\\SpamBase.ipynb Cell 5\u001b[0m line \u001b[0;36m2\n\u001b[0;32m      <a href='vscode-notebook-cell:/c%3A/Users/ferna/OneDrive/Documents/GitHub/Mini-Project-1/SpamBase/SpamBase.ipynb#W4sZmlsZQ%3D%3D?line=0'>1</a>\u001b[0m \u001b[39m#sys.path.insert(1, \"Model_Implement\\regression.py\") \u001b[39;00m\n\u001b[1;32m----> <a href='vscode-notebook-cell:/c%3A/Users/ferna/OneDrive/Documents/GitHub/Mini-Project-1/SpamBase/SpamBase.ipynb#W4sZmlsZQ%3D%3D?line=1'>2</a>\u001b[0m \u001b[39mfrom\u001b[39;00m \u001b[39mregression\u001b[39;00m \u001b[39mimport\u001b[39;00m LogReg\n",
      "\u001b[1;31mModuleNotFoundError\u001b[0m: No module named 'regression'"
     ]
    }
   ],
   "source": [
    "#sys.path.insert(1, \"Model_Implement\\regression.py\") \n",
    "#from regression import LogReg\n"
   ]
  },
  {
   "attachments": {},
   "cell_type": "markdown",
   "id": "ee5b2426",
   "metadata": {},
   "source": [
    "# Fetch Datasets"
   ]
  },
  {
   "cell_type": "code",
   "execution_count": null,
   "id": "d61d6e85",
   "metadata": {},
   "outputs": [],
   "source": [
    "# fetch dataset \n",
    "spambase = fetch_ucirepo(id=94) \n",
    "  \n",
    "# data (as pandas dataframes) \n",
    "X = spambase.data.features \n",
    "y = spambase.data.targets "
   ]
  },
  {
   "cell_type": "code",
   "execution_count": null,
   "id": "c94ca61c",
   "metadata": {},
   "outputs": [],
   "source": [
    "# metadata \n",
    "#print(spambase.metadata) \n",
    "  \n",
    "# variable information \n",
    "#print(spambase.variables) \n",
    "#print(spambase.data.targets)"
   ]
  },
  {
   "cell_type": "markdown",
   "id": "dcfd07c6",
   "metadata": {},
   "source": [
    "# Clean Dataset"
   ]
  },
  {
   "cell_type": "markdown",
   "id": "c2787df0",
   "metadata": {},
   "source": [
    "## Clean Missing Value from X"
   ]
  },
  {
   "cell_type": "code",
   "execution_count": null,
   "id": "56ee6eb9",
   "metadata": {},
   "outputs": [],
   "source": [
    "# removes missing values from X\n",
    "X_cleaned = X.dropna()\n",
    "X_cleaned"
   ]
  },
  {
   "cell_type": "markdown",
   "id": "577047a7",
   "metadata": {},
   "source": [
    "## Drop Duplicate Rows\n"
   ]
  },
  {
   "cell_type": "code",
   "execution_count": null,
   "id": "63f2895d",
   "metadata": {},
   "outputs": [],
   "source": [
    "# drops duplicate rows\n",
    "X_cleaned = X_cleaned.drop_duplicates(ignore_index=False)\n",
    "X_cleaned"
   ]
  },
  {
   "cell_type": "markdown",
   "metadata": {},
   "source": [
    "# Plot Data Points in Map"
   ]
  },
  {
   "cell_type": "code",
   "execution_count": 3,
   "id": "6dbf210d",
   "metadata": {},
   "outputs": [
    {
     "ename": "NameError",
     "evalue": "name 'y' is not defined",
     "output_type": "error",
     "traceback": [
      "\u001b[1;31m---------------------------------------------------------------------------\u001b[0m",
      "\u001b[1;31mNameError\u001b[0m                                 Traceback (most recent call last)",
      "\u001b[1;32mc:\\Users\\ferna\\OneDrive\\Documents\\GitHub\\Mini-Project-1\\SpamBase\\SpamBase.ipynb Cell 15\u001b[0m line \u001b[0;36m3\n\u001b[0;32m      <a href='vscode-notebook-cell:/c%3A/Users/ferna/OneDrive/Documents/GitHub/Mini-Project-1/SpamBase/SpamBase.ipynb#X20sZmlsZQ%3D%3D?line=0'>1</a>\u001b[0m List\u001b[39m=\u001b[39m[]\n\u001b[0;32m      <a href='vscode-notebook-cell:/c%3A/Users/ferna/OneDrive/Documents/GitHub/Mini-Project-1/SpamBase/SpamBase.ipynb#X20sZmlsZQ%3D%3D?line=1'>2</a>\u001b[0m i\u001b[39m=\u001b[39m\u001b[39m0\u001b[39m\n\u001b[1;32m----> <a href='vscode-notebook-cell:/c%3A/Users/ferna/OneDrive/Documents/GitHub/Mini-Project-1/SpamBase/SpamBase.ipynb#X20sZmlsZQ%3D%3D?line=2'>3</a>\u001b[0m sizeOfY \u001b[39m=\u001b[39my\u001b[39m.\u001b[39mshape[\u001b[39m0\u001b[39m]\u001b[39m#number of rows\u001b[39;00m\n\u001b[0;32m      <a href='vscode-notebook-cell:/c%3A/Users/ferna/OneDrive/Documents/GitHub/Mini-Project-1/SpamBase/SpamBase.ipynb#X20sZmlsZQ%3D%3D?line=4'>5</a>\u001b[0m \u001b[39mwhile\u001b[39;00m i\u001b[39m<\u001b[39m (sizeOfY):\u001b[39m#iterate through rows\u001b[39;00m\n\u001b[0;32m      <a href='vscode-notebook-cell:/c%3A/Users/ferna/OneDrive/Documents/GitHub/Mini-Project-1/SpamBase/SpamBase.ipynb#X20sZmlsZQ%3D%3D?line=5'>6</a>\u001b[0m     value\u001b[39m=\u001b[39m y\u001b[39m.\u001b[39miat[i,\u001b[39m0\u001b[39m]\u001b[39m#grab value in table for each row\u001b[39;00m\n",
      "\u001b[1;31mNameError\u001b[0m: name 'y' is not defined"
     ]
    }
   ],
   "source": [
    "List=[]\n",
    "i=0\n",
    "sizeOfY =y.shape[0]#number of rows\n",
    "\n",
    "while i< (sizeOfY):#iterate through rows\n",
    "    value= y.iat[i,0]#grab value in table for each row\n",
    "    List.append(value)\n",
    "        \n",
    "    i+=1\n",
    "\n",
    "\n",
    "plt.figure()#creates template\n",
    "plt.plot(List)#plot\n",
    "\n",
    "plt.grid()\n",
    "plt.show()#displays graph"
   ]
  },
  {
   "cell_type": "markdown",
   "metadata": {},
   "source": [
    "# Running The Model"
   ]
  },
  {
   "cell_type": "code",
   "execution_count": null,
   "metadata": {},
   "outputs": [
    {
     "ename": "NameError",
     "evalue": "name 'np' is not defined",
     "output_type": "error",
     "traceback": [
      "\u001b[1;31m---------------------------------------------------------------------------\u001b[0m",
      "\u001b[1;31mNameError\u001b[0m                                 Traceback (most recent call last)",
      "\u001b[1;32mc:\\Users\\ferna\\OneDrive\\Documents\\GitHub\\Mini-Project-1\\SpamBase\\SpamBase.ipynb Cell 17\u001b[0m line \u001b[0;36m1\n\u001b[1;32m----> <a href='vscode-notebook-cell:/c%3A/Users/ferna/OneDrive/Documents/GitHub/Mini-Project-1/SpamBase/SpamBase.ipynb#X22sZmlsZQ%3D%3D?line=0'>1</a>\u001b[0m y \u001b[39m=\u001b[39m np\u001b[39m.\u001b[39marray(y)\n\u001b[0;32m      <a href='vscode-notebook-cell:/c%3A/Users/ferna/OneDrive/Documents/GitHub/Mini-Project-1/SpamBase/SpamBase.ipynb#X22sZmlsZQ%3D%3D?line=1'>2</a>\u001b[0m X\u001b[39m=\u001b[39m np\u001b[39m.\u001b[39marray(X)\n\u001b[0;32m      <a href='vscode-notebook-cell:/c%3A/Users/ferna/OneDrive/Documents/GitHub/Mini-Project-1/SpamBase/SpamBase.ipynb#X22sZmlsZQ%3D%3D?line=2'>3</a>\u001b[0m lr \u001b[39m=\u001b[39m LogReg(learning_rate\u001b[39m=\u001b[39m\u001b[39m0.01\u001b[39m, num_epochs\u001b[39m=\u001b[39m\u001b[39m1000\u001b[39m) \n",
      "\u001b[1;31mNameError\u001b[0m: name 'np' is not defined"
     ]
    }
   ],
   "source": [
    "y = np.array(y)\n",
    "X= np.array(X)\n",
    "lr = LogReg(learning_rate=0.01, num_epochs=1000) \n",
    "\n",
    "lr.fit(X, y)\n",
    "\n",
    "accuracy = lr.evaluate_acc(X, y)\n",
    "print(accuracy)\n"
   ]
  }
 ],
 "metadata": {
  "kernelspec": {
   "display_name": "Python 3 (ipykernel)",
   "language": "python",
   "name": "python3"
  },
  "language_info": {
   "codemirror_mode": {
    "name": "ipython",
    "version": 3
   },
   "file_extension": ".py",
   "mimetype": "text/x-python",
   "name": "python",
   "nbconvert_exporter": "python",
   "pygments_lexer": "ipython3",
   "version": "3.12.0"
  }
 },
 "nbformat": 4,
 "nbformat_minor": 5
}
