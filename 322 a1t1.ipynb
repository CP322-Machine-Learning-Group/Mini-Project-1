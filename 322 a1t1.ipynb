{
 "cells": [
  {
   "cell_type": "code",
   "execution_count": 16,
   "metadata": {},
   "outputs": [],
   "source": [
    "# pip install ucimlrepo \n",
    "import pandas as pd\n",
    "import matplotlib.pyplot as plt  \n",
    "import numpy as np\n",
    "from regression import LogReg\n",
    "from regression import KNN\n",
    "from ucimlrepo import fetch_ucirepo "
   ]
  },
  {
   "cell_type": "code",
   "execution_count": 17,
   "metadata": {},
   "outputs": [],
   "source": [
    "# fetch dataset \n",
    "adult = fetch_ucirepo(id=2) \n",
    "  \n",
    "# data (as pandas dataframes) \n",
    "X = adult.data.features \n",
    "y = adult.data.targets "
   ]
  },
  {
   "cell_type": "code",
   "execution_count": 18,
   "metadata": {},
   "outputs": [],
   "source": [
    "# metadata \n",
    "# print(adult.metadata) \n",
    "  \n",
    "# variable information \n",
    "# print(adult.variables)\n",
    "\n",
    "# print(X.head())\n",
    "# print(y)\n",
    "# X\n"
   ]
  },
  {
   "cell_type": "code",
   "execution_count": 19,
   "metadata": {},
   "outputs": [
    {
     "name": "stdout",
     "output_type": "stream",
     "text": [
      "       age  fnlwgt  education-num  capital-gain  capital-loss  hours-per-week\n",
      "0       39   77516             13          2174             0              40\n",
      "1       50   83311             13             0             0              13\n",
      "2       38  215646              9             0             0              40\n",
      "3       53  234721              7             0             0              40\n",
      "4       28  338409             13             0             0              40\n",
      "...    ...     ...            ...           ...           ...             ...\n",
      "48837   39  215419             13             0             0              36\n",
      "48838   64  321403              9             0             0              40\n",
      "48839   38  374983             13             0             0              50\n",
      "48840   44   83891             13          5455             0              40\n",
      "48841   35  182148             13             0             0              60\n",
      "\n",
      "[48842 rows x 6 columns]\n"
     ]
    }
   ],
   "source": [
    "#print(X)\n",
    "X=pd.DataFrame(X)\n",
    "drop=['workclass','education','marital-status','occupation','relationship','race','sex','native-country']\n",
    "index=[1,3,5,6,7,8,9,13]\n",
    "X=X.drop(columns=drop)\n",
    "print(X)\n"
   ]
  },
  {
   "cell_type": "code",
   "execution_count": 20,
   "metadata": {},
   "outputs": [
    {
     "name": "stdout",
     "output_type": "stream",
     "text": [
      "       income\n",
      "0       <=50K\n",
      "1       <=50K\n",
      "2       <=50K\n",
      "3       <=50K\n",
      "4       <=50K\n",
      "...       ...\n",
      "48837  <=50K.\n",
      "48838  <=50K.\n",
      "48839  <=50K.\n",
      "48840  <=50K.\n",
      "48841   >50K.\n",
      "\n",
      "[48842 rows x 1 columns]\n"
     ]
    }
   ],
   "source": [
    "print(y)"
   ]
  },
  {
   "cell_type": "markdown",
   "metadata": {},
   "source": [
    "Check for unusual values in all variables"
   ]
  },
  {
   "cell_type": "code",
   "execution_count": 21,
   "metadata": {},
   "outputs": [
    {
     "name": "stdout",
     "output_type": "stream",
     "text": [
      "[0 0 0 ... 0 0 0]\n",
      "[[    39  77516     13   2174      0     40]\n",
      " [    50  83311     13      0      0     13]\n",
      " [    38 215646      9      0      0     40]\n",
      " ...\n",
      " [    38 374983     13      0      0     50]\n",
      " [    44  83891     13   5455      0     40]\n",
      " [    35 182148     13      0      0     60]]\n"
     ]
    }
   ],
   "source": [
    "Y=[]\n",
    "j=2\n",
    "i=0\n",
    "sizeOfY =y.shape[0]\n",
    "sizeOfX =X.shape[1]\n",
    "y=np.array(y)\n",
    "while i<len(y):\n",
    "    if y[i]=='>50K':\n",
    "        Y.append(1)\n",
    "        i+=1\n",
    "    else:\n",
    "        Y.append(0)\n",
    "        i+=1\n",
    "y = np.array(Y)\n",
    "print(y)\n",
    "X = np.array(X) \n",
    "print(X)"
   ]
  },
  {
   "cell_type": "code",
   "execution_count": 22,
   "metadata": {},
   "outputs": [
    {
     "name": "stdout",
     "output_type": "stream",
     "text": [
      "Epoch: 0, Loss: 0.6931471805599435\n",
      "Epoch: 1, Loss: 5.544788209174372\n",
      "Epoch: 2, Loss: 5.544788209174372\n",
      "Epoch: 3, Loss: 5.544788209174372\n",
      "Epoch: 4, Loss: 28.993988185736303\n",
      "Epoch: 5, Loss: 5.544788209174372\n",
      "Epoch: 6, Loss: 5.544788209174372\n",
      "Epoch: 7, Loss: 5.544788209174372\n",
      "Epoch: 8, Loss: 5.544788209174372\n",
      "Epoch: 9, Loss: 5.544788209174372\n",
      "Epoch: 10, Loss: 28.993988185736303\n",
      "Epoch: 11, Loss: 5.544788209174372\n",
      "Epoch: 12, Loss: 5.544788209174372\n",
      "Epoch: 13, Loss: 5.544788209174372\n",
      "Epoch: 14, Loss: 5.544788209174372\n",
      "Epoch: 15, Loss: 5.544788209174372\n",
      "Epoch: 16, Loss: 28.993988185736303\n",
      "Epoch: 17, Loss: 5.544788209174372\n",
      "Epoch: 18, Loss: 5.544788209174372\n",
      "Epoch: 19, Loss: 5.544788209174372\n",
      "Epoch: 20, Loss: 5.544788209174372\n",
      "Epoch: 21, Loss: 5.544788209174372\n",
      "Epoch: 22, Loss: 28.993988185736303\n",
      "Epoch: 23, Loss: 5.544788209174372\n",
      "Epoch: 24, Loss: 5.544788209174372\n",
      "Epoch: 25, Loss: 5.544788209174372\n",
      "Epoch: 26, Loss: 5.544788209174372\n",
      "Epoch: 27, Loss: 5.544788209174372\n",
      "Epoch: 28, Loss: 28.993988185736303\n"
     ]
    },
    {
     "name": "stderr",
     "output_type": "stream",
     "text": [
      "c:\\Users\\ferna\\OneDrive\\Documents\\GitHub\\Mini-Project-1\\regression.py:14: RuntimeWarning: overflow encountered in exp\n",
      "  return 1 / (1 + np.exp(-z))\n"
     ]
    },
    {
     "name": "stdout",
     "output_type": "stream",
     "text": [
      "Epoch: 29, Loss: 5.544788209174372\n",
      "Epoch: 30, Loss: 5.544788209174372\n",
      "Epoch: 31, Loss: 5.544788209174372\n",
      "Epoch: 32, Loss: 5.544788209174372\n",
      "Epoch: 33, Loss: 5.544788209174372\n",
      "Epoch: 34, Loss: 5.544788209174372\n",
      "Epoch: 35, Loss: 28.993988185736303\n",
      "Epoch: 36, Loss: 5.544788209174372\n",
      "Epoch: 37, Loss: 5.544788209174372\n",
      "Epoch: 38, Loss: 5.544788209174372\n",
      "Epoch: 39, Loss: 5.544788209174372\n",
      "Epoch: 40, Loss: 5.544788209174372\n",
      "Epoch: 41, Loss: 28.993988185736303\n",
      "Epoch: 42, Loss: 5.544788209174372\n",
      "Epoch: 43, Loss: 5.544788209174372\n",
      "Epoch: 44, Loss: 5.544788209174372\n",
      "Epoch: 45, Loss: 5.544788209174372\n",
      "Epoch: 46, Loss: 5.544788209174372\n",
      "Epoch: 47, Loss: 28.993988185736303\n",
      "Epoch: 48, Loss: 5.544788209174372\n",
      "Epoch: 49, Loss: 5.544788209174372\n",
      "Epoch: 50, Loss: 5.544788209174372\n",
      "Epoch: 51, Loss: 5.544788209174372\n",
      "Epoch: 52, Loss: 5.544788209174372\n",
      "Epoch: 53, Loss: 28.993988185736303\n",
      "Epoch: 54, Loss: 5.544788209174372\n",
      "Epoch: 55, Loss: 5.544788209174372\n",
      "Epoch: 56, Loss: 5.544788209174372\n",
      "Epoch: 57, Loss: 5.544788209174372\n",
      "Epoch: 58, Loss: 5.544788209174372\n",
      "Epoch: 59, Loss: 28.993988185736303\n",
      "Epoch: 60, Loss: 5.544788209174372\n",
      "Epoch: 61, Loss: 5.544788209174372\n",
      "Epoch: 62, Loss: 5.544788209174372\n",
      "Epoch: 63, Loss: 5.544788209174372\n",
      "Epoch: 64, Loss: 5.544788209174372\n",
      "Epoch: 65, Loss: 28.993988185736303\n",
      "Epoch: 66, Loss: 5.544788209174372\n",
      "Epoch: 67, Loss: 5.544788209174372\n",
      "Epoch: 68, Loss: 5.544788209174372\n",
      "Epoch: 69, Loss: 5.544788209174372\n",
      "Epoch: 70, Loss: 5.544788209174372\n",
      "Epoch: 71, Loss: 5.544788209174372\n",
      "Epoch: 72, Loss: 28.993988185736303\n",
      "Epoch: 73, Loss: 5.544788209174372\n",
      "Epoch: 74, Loss: 5.544788209174372\n",
      "Epoch: 75, Loss: 5.544788209174372\n",
      "Epoch: 76, Loss: 5.544788209174372\n",
      "Epoch: 77, Loss: 5.544788209174372\n",
      "Epoch: 78, Loss: 28.993988185736303\n",
      "Epoch: 79, Loss: 5.544788209174372\n",
      "Epoch: 80, Loss: 5.544788209174372\n",
      "Epoch: 81, Loss: 5.544788209174372\n",
      "Epoch: 82, Loss: 5.544788209174372\n",
      "Epoch: 83, Loss: 5.544788209174372\n",
      "Epoch: 84, Loss: 28.993988185736303\n",
      "Epoch: 85, Loss: 5.544788209174372\n",
      "Epoch: 86, Loss: 5.544788209174372\n",
      "Epoch: 87, Loss: 5.544788209174372\n",
      "Epoch: 88, Loss: 5.544788209174372\n",
      "Epoch: 89, Loss: 5.544788209174372\n",
      "Epoch: 90, Loss: 28.993988185736303\n",
      "Epoch: 91, Loss: 5.544788209174372\n",
      "Epoch: 92, Loss: 5.544788209174372\n",
      "Epoch: 93, Loss: 5.544788209174372\n",
      "Epoch: 94, Loss: 5.544788209174372\n",
      "Epoch: 95, Loss: 5.544788209174372\n",
      "Epoch: 96, Loss: 28.993988185736303\n",
      "Epoch: 97, Loss: 5.544788209174372\n",
      "Epoch: 98, Loss: 5.544788209174372\n",
      "Epoch: 99, Loss: 5.544788209174372\n",
      "log regression Accuracy:  0.8394619384955571\n"
     ]
    }
   ],
   "source": [
    "\n",
    "\n",
    "lr = LogReg(learning_rate=0.1, num_epochs=100)\n",
    "losses = lr.fit(X, y)\n",
    "\n",
    "accuracy_LogReg = lr.evaluate_acc(X, y)\n",
    "print('log regression Accuracy: ', accuracy_LogReg)"
   ]
  },
  {
   "cell_type": "code",
   "execution_count": 23,
   "metadata": {},
   "outputs": [
    {
     "ename": "KeyboardInterrupt",
     "evalue": "",
     "output_type": "error",
     "traceback": [
      "\u001b[1;31m---------------------------------------------------------------------------\u001b[0m",
      "\u001b[1;31mKeyboardInterrupt\u001b[0m                         Traceback (most recent call last)",
      "\u001b[1;32mc:\\Users\\ferna\\OneDrive\\Documents\\GitHub\\Mini-Project-1\\322 a1t1.ipynb Cell 9\u001b[0m line \u001b[0;36m2\n\u001b[0;32m      <a href='vscode-notebook-cell:/c%3A/Users/ferna/OneDrive/Documents/GitHub/Mini-Project-1/322%20a1t1.ipynb#X11sZmlsZQ%3D%3D?line=0'>1</a>\u001b[0m knn \u001b[39m=\u001b[39m KNN(k\u001b[39m=\u001b[39m\u001b[39m4\u001b[39m)\n\u001b[1;32m----> <a href='vscode-notebook-cell:/c%3A/Users/ferna/OneDrive/Documents/GitHub/Mini-Project-1/322%20a1t1.ipynb#X11sZmlsZQ%3D%3D?line=1'>2</a>\u001b[0m accuracy_k_fold \u001b[39m=\u001b[39m KNN\u001b[39m.\u001b[39;49mk_fold_cross_validation(knn, X, y, k\u001b[39m=\u001b[39;49m\u001b[39m5\u001b[39;49m)\n\u001b[0;32m      <a href='vscode-notebook-cell:/c%3A/Users/ferna/OneDrive/Documents/GitHub/Mini-Project-1/322%20a1t1.ipynb#X11sZmlsZQ%3D%3D?line=2'>3</a>\u001b[0m \u001b[39mprint\u001b[39m(\u001b[39m\"\u001b[39m\u001b[39m5-Fold Cross-Validation Accuracy:\u001b[39m\u001b[39m\"\u001b[39m, accuracy_k_fold)\n",
      "File \u001b[1;32mc:\\Users\\ferna\\OneDrive\\Documents\\GitHub\\Mini-Project-1\\regression.py:107\u001b[0m, in \u001b[0;36mKNN.k_fold_cross_validation\u001b[1;34m(self, X, y, k)\u001b[0m\n\u001b[0;32m    104\u001b[0m     y_test \u001b[39m=\u001b[39m y[start_idx:end_idx]\n\u001b[0;32m    106\u001b[0m     \u001b[39mself\u001b[39m\u001b[39m.\u001b[39mfit(X_train, y_train)\n\u001b[1;32m--> 107\u001b[0m     accuracy \u001b[39m=\u001b[39m \u001b[39mself\u001b[39;49m\u001b[39m.\u001b[39;49mevaluate_accuracy(X_test, y_test)\n\u001b[0;32m    108\u001b[0m     accuracy_scores\u001b[39m.\u001b[39mappend(accuracy)\n\u001b[0;32m    110\u001b[0m \u001b[39mreturn\u001b[39;00m accuracy_scores\n",
      "File \u001b[1;32mc:\\Users\\ferna\\OneDrive\\Documents\\GitHub\\Mini-Project-1\\regression.py:113\u001b[0m, in \u001b[0;36mKNN.evaluate_accuracy\u001b[1;34m(self, X, y)\u001b[0m\n\u001b[0;32m    112\u001b[0m \u001b[39mdef\u001b[39;00m \u001b[39mevaluate_accuracy\u001b[39m(\u001b[39mself\u001b[39m, X, y):\n\u001b[1;32m--> 113\u001b[0m     predictions \u001b[39m=\u001b[39m \u001b[39mself\u001b[39;49m\u001b[39m.\u001b[39;49mpredict(X)\n\u001b[0;32m    114\u001b[0m     \u001b[39mreturn\u001b[39;00m np\u001b[39m.\u001b[39mmean(predictions \u001b[39m==\u001b[39m y)\n",
      "File \u001b[1;32mc:\\Users\\ferna\\OneDrive\\Documents\\GitHub\\Mini-Project-1\\regression.py:83\u001b[0m, in \u001b[0;36mKNN.predict\u001b[1;34m(self, X)\u001b[0m\n\u001b[0;32m     82\u001b[0m \u001b[39mdef\u001b[39;00m \u001b[39mpredict\u001b[39m(\u001b[39mself\u001b[39m, X):\n\u001b[1;32m---> 83\u001b[0m     predictions \u001b[39m=\u001b[39m [\u001b[39mself\u001b[39;49m\u001b[39m.\u001b[39;49m_predict(x) \u001b[39mfor\u001b[39;00m x \u001b[39min\u001b[39;00m X]\n\u001b[0;32m     84\u001b[0m     \u001b[39mreturn\u001b[39;00m np\u001b[39m.\u001b[39marray(predictions)\n",
      "File \u001b[1;32mc:\\Users\\ferna\\OneDrive\\Documents\\GitHub\\Mini-Project-1\\regression.py:87\u001b[0m, in \u001b[0;36mKNN._predict\u001b[1;34m(self, x)\u001b[0m\n\u001b[0;32m     86\u001b[0m \u001b[39mdef\u001b[39;00m \u001b[39m_predict\u001b[39m(\u001b[39mself\u001b[39m, x):\n\u001b[1;32m---> 87\u001b[0m     distances \u001b[39m=\u001b[39m [\u001b[39mself\u001b[39;49m\u001b[39m.\u001b[39;49meuclidean_distance(x, x_train) \u001b[39mfor\u001b[39;00m x_train \u001b[39min\u001b[39;00m \u001b[39mself\u001b[39m\u001b[39m.\u001b[39mX_train]\n\u001b[0;32m     88\u001b[0m     k_indices \u001b[39m=\u001b[39m np\u001b[39m.\u001b[39margsort(distances)[:\u001b[39mself\u001b[39m\u001b[39m.\u001b[39mk]\n\u001b[0;32m     89\u001b[0m     k_nearest_labels \u001b[39m=\u001b[39m [\u001b[39mself\u001b[39m\u001b[39m.\u001b[39my_train[i] \u001b[39mfor\u001b[39;00m i \u001b[39min\u001b[39;00m k_indices]\n",
      "File \u001b[1;32mc:\\Users\\ferna\\OneDrive\\Documents\\GitHub\\Mini-Project-1\\regression.py:80\u001b[0m, in \u001b[0;36mKNN.euclidean_distance\u001b[1;34m(self, x1, x2)\u001b[0m\n\u001b[0;32m     79\u001b[0m \u001b[39mdef\u001b[39;00m \u001b[39meuclidean_distance\u001b[39m(\u001b[39mself\u001b[39m, x1, x2):\n\u001b[1;32m---> 80\u001b[0m     \u001b[39mreturn\u001b[39;00m np\u001b[39m.\u001b[39msqrt(np\u001b[39m.\u001b[39;49msum((x1 \u001b[39m-\u001b[39;49m x2) \u001b[39m*\u001b[39;49m\u001b[39m*\u001b[39;49m \u001b[39m2\u001b[39;49m))\n",
      "File \u001b[1;32mc:\\Users\\ferna\\AppData\\Local\\Programs\\Python\\Python312\\Lib\\site-packages\\numpy\\core\\fromnumeric.py:2313\u001b[0m, in \u001b[0;36msum\u001b[1;34m(a, axis, dtype, out, keepdims, initial, where)\u001b[0m\n\u001b[0;32m   2310\u001b[0m         \u001b[39mreturn\u001b[39;00m out\n\u001b[0;32m   2311\u001b[0m     \u001b[39mreturn\u001b[39;00m res\n\u001b[1;32m-> 2313\u001b[0m \u001b[39mreturn\u001b[39;00m _wrapreduction(a, np\u001b[39m.\u001b[39;49madd, \u001b[39m'\u001b[39;49m\u001b[39msum\u001b[39;49m\u001b[39m'\u001b[39;49m, axis, dtype, out, keepdims\u001b[39m=\u001b[39;49mkeepdims,\n\u001b[0;32m   2314\u001b[0m                       initial\u001b[39m=\u001b[39;49minitial, where\u001b[39m=\u001b[39;49mwhere)\n",
      "File \u001b[1;32mc:\\Users\\ferna\\AppData\\Local\\Programs\\Python\\Python312\\Lib\\site-packages\\numpy\\core\\fromnumeric.py:72\u001b[0m, in \u001b[0;36m_wrapreduction\u001b[1;34m(obj, ufunc, method, axis, dtype, out, **kwargs)\u001b[0m\n\u001b[0;32m     71\u001b[0m \u001b[39mdef\u001b[39;00m \u001b[39m_wrapreduction\u001b[39m(obj, ufunc, method, axis, dtype, out, \u001b[39m*\u001b[39m\u001b[39m*\u001b[39mkwargs):\n\u001b[1;32m---> 72\u001b[0m     passkwargs \u001b[39m=\u001b[39m {k: v \u001b[39mfor\u001b[39;00m k, v \u001b[39min\u001b[39;00m kwargs\u001b[39m.\u001b[39;49mitems()\n\u001b[0;32m     73\u001b[0m                   \u001b[39mif\u001b[39;00m v \u001b[39mis\u001b[39;00m \u001b[39mnot\u001b[39;00m np\u001b[39m.\u001b[39m_NoValue}\n\u001b[0;32m     75\u001b[0m     \u001b[39mif\u001b[39;00m \u001b[39mtype\u001b[39m(obj) \u001b[39mis\u001b[39;00m \u001b[39mnot\u001b[39;00m mu\u001b[39m.\u001b[39mndarray:\n\u001b[0;32m     76\u001b[0m         \u001b[39mtry\u001b[39;00m:\n",
      "\u001b[1;31mKeyboardInterrupt\u001b[0m: "
     ]
    }
   ],
   "source": [
    "knn = KNN(k=4)\n",
    "accuracy_k_fold = KNN.k_fold_cross_validation(knn, X, y, k=5)\n",
    "print(\"5-Fold Cross-Validation Accuracy:\", accuracy_k_fold)\n"
   ]
  },
  {
   "cell_type": "code",
   "execution_count": 24,
   "metadata": {},
   "outputs": [
    {
     "ename": "NameError",
     "evalue": "name 'accuracy_k_fold' is not defined",
     "output_type": "error",
     "traceback": [
      "\u001b[1;31m---------------------------------------------------------------------------\u001b[0m",
      "\u001b[1;31mNameError\u001b[0m                                 Traceback (most recent call last)",
      "\u001b[1;32mc:\\Users\\ferna\\OneDrive\\Documents\\GitHub\\Mini-Project-1\\322 a1t1.ipynb Cell 10\u001b[0m line \u001b[0;36m3\n\u001b[0;32m      <a href='vscode-notebook-cell:/c%3A/Users/ferna/OneDrive/Documents/GitHub/Mini-Project-1/322%20a1t1.ipynb#X12sZmlsZQ%3D%3D?line=0'>1</a>\u001b[0m plt\u001b[39m.\u001b[39mfigure()\n\u001b[0;32m      <a href='vscode-notebook-cell:/c%3A/Users/ferna/OneDrive/Documents/GitHub/Mini-Project-1/322%20a1t1.ipynb#X12sZmlsZQ%3D%3D?line=1'>2</a>\u001b[0m plt\u001b[39m.\u001b[39mplot(losses)\n\u001b[1;32m----> <a href='vscode-notebook-cell:/c%3A/Users/ferna/OneDrive/Documents/GitHub/Mini-Project-1/322%20a1t1.ipynb#X12sZmlsZQ%3D%3D?line=2'>3</a>\u001b[0m plt\u001b[39m.\u001b[39mplot(accuracy_k_fold)\n\u001b[0;32m      <a href='vscode-notebook-cell:/c%3A/Users/ferna/OneDrive/Documents/GitHub/Mini-Project-1/322%20a1t1.ipynb#X12sZmlsZQ%3D%3D?line=3'>4</a>\u001b[0m plt\u001b[39m.\u001b[39mgrid()\n",
      "\u001b[1;31mNameError\u001b[0m: name 'accuracy_k_fold' is not defined"
     ]
    },
    {
     "data": {
      "image/png": "[encoded data removed]",
      "text/plain": [
       "<Figure size 640x480 with 1 Axes>"
      ]
     },
     "metadata": {},
     "output_type": "display_data"
    }
   ],
   "source": [
    "plt.figure()\n",
    "plt.plot(losses)\n",
    "#plt.plot(accuracy_k_fold)\n",
    "plt.grid()"
   ]
  }
 ],
 "metadata": {
  "kernelspec": {
   "display_name": "Python 3",
   "language": "python",
   "name": "python3"
  },
  "language_info": {
   "codemirror_mode": {
    "name": "ipython",
    "version": 3
   },
   "file_extension": ".py",
   "mimetype": "text/x-python",
   "name": "python",
   "nbconvert_exporter": "python",
   "pygments_lexer": "ipython3",
   "version": "3.12.0"
  }
 },
 "nbformat": 4,
 "nbformat_minor": 4
}
