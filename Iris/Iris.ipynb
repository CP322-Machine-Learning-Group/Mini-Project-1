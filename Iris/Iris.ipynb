{
 "cells": [
  {
   "cell_type": "markdown",
   "metadata": {},
   "source": [
    "# **Mini-Project 1: Machine Learning CP322A**\n",
    "\n",
    "### **Datasets 3 and 4:** pick two additional datasets for classification from the UCI datasets at:\n"
   ]
  },
  {
   "cell_type": "code",
   "execution_count": 71,
   "metadata": {},
   "outputs": [],
   "source": [
    "#imports\n",
    "import numpy as np\n",
    "from ucimlrepo import fetch_ucirepo \n",
    "import pandas as pd\n",
    "import matplotlib.pyplot as plt\n",
    "import seaborn as sns\n",
    "import statistics"
   ]
  },
  {
   "cell_type": "markdown",
   "metadata": {},
   "source": [
    "#### **Task 1:** Acquire, preprocess, and analyze the data"
   ]
  },
  {
   "cell_type": "code",
   "execution_count": 72,
   "metadata": {},
   "outputs": [
    {
     "name": "stdout",
     "output_type": "stream",
     "text": [
      "     sepal length  sepal width  petal length  petal width\n",
      "0             5.1          3.5           1.4          0.2\n",
      "1             4.9          3.0           1.4          0.2\n",
      "2             4.7          3.2           1.3          0.2\n",
      "3             4.6          3.1           1.5          0.2\n",
      "4             5.0          3.6           1.4          0.2\n",
      "..            ...          ...           ...          ...\n",
      "145           6.7          3.0           5.2          2.3\n",
      "146           6.3          2.5           5.0          1.9\n",
      "147           6.5          3.0           5.2          2.0\n",
      "148           6.2          3.4           5.4          2.3\n",
      "149           5.9          3.0           5.1          1.8\n",
      "\n",
      "[150 rows x 4 columns]\n",
      "              class\n",
      "0       Iris-setosa\n",
      "1       Iris-setosa\n",
      "2       Iris-setosa\n",
      "3       Iris-setosa\n",
      "4       Iris-setosa\n",
      "..              ...\n",
      "145  Iris-virginica\n",
      "146  Iris-virginica\n",
      "147  Iris-virginica\n",
      "148  Iris-virginica\n",
      "149  Iris-virginica\n",
      "\n",
      "[150 rows x 1 columns]\n"
     ]
    }
   ],
   "source": [
    "iris = fetch_ucirepo(id=53) \n",
    "# print(iris.metadata) \n",
    "# print(iris.variables)\n",
    "  \n",
    "features = iris.data.features \n",
    "targets = iris.data.targets \n",
    "  \n",
    "features.to_csv('features.csv', index=False)\n",
    "targets.to_csv('targets.csv', index=False)\n",
    "\n",
    "print(features)\n",
    "print(targets) \n"
   ]
  },
  {
   "cell_type": "code",
   "execution_count": 73,
   "metadata": {},
   "outputs": [],
   "source": [
    "# 1. Load the data sets into NumPy objects(i.e.,arrays or matrices)in Python.\n",
    "features_array = np.array(iris.data.features)\n",
    "targets_array = np.array(iris.data.targets)\n",
    "\n",
    "# print(features_array)\n",
    "# print(targets_array)\n",
    "\n",
    "#2. Cleaning the data, missing or malformed features, one-hot encoding\n",
    "\n",
    "# np.isnan(features) #checks for missing data\n",
    "\n",
    "# Breaking up the data for features into their coloums for easy use later on\n",
    "feature_names = features.columns  # Get the column names\n",
    "\n",
    "sepal_length = features[[feature_names[0]]]\n",
    "sepal_width = features[[feature_names[1]]]\n",
    "petal_length = features[[feature_names[2]]]\n",
    "petal_width = features[[feature_names[3]]]\n",
    "\n",
    "# print(petal_width)\n"
   ]
  },
  {
   "cell_type": "code",
   "execution_count": 74,
   "metadata": {},
   "outputs": [
    {
     "name": "stdout",
     "output_type": "stream",
     "text": [
      "Averages (cm)\n",
      "Sepal length: 5.84\n",
      "Mean Sepal Width: 3.05\n",
      "Mean Petal Length: 3.76\n",
      "Mean Petal Width: 1.20\n",
      "\n",
      "Median (cm)\n",
      "Median Sepal Width: 3.00\n",
      "Median Petal Length: 4.35\n",
      "Median Petal Width: 1.30\n"
     ]
    }
   ],
   "source": [
    "#3. Compute basic statistics on the data to understand it better, positive vs. negative classes, distributions of some of the numerical features. what are the correlations between the features? how do the scatter plots of pair-wise features look like for some subset of features?\n",
    "\n",
    "mean_sepal_length  = np.mean(sepal_length)\n",
    "mean_sepal_width = np.mean(sepal_width)\n",
    "mean_petal_length = np.mean(petal_length)\n",
    "mean_petal_width = np.mean(petal_width)\n",
    "\n",
    "median_sepal_width = np.median(sepal_width)\n",
    "median_petal_length = np.median(petal_length)\n",
    "median_petal_width = np.median(petal_width)\n",
    "\n",
    "print(\"Averages (cm)\")\n",
    "print(f\"Sepal length: {mean_sepal_length:.2f}\")\n",
    "print(f\"Mean Sepal Width: {mean_sepal_width:.2f}\")\n",
    "print(f\"Mean Petal Length: {mean_petal_length:.2f}\")\n",
    "print(f\"Mean Petal Width: {mean_petal_width:.2f}\")\n",
    "\n",
    "print(\"\\nMedian (cm)\")\n",
    "print(f\"Median Sepal Width: {median_sepal_width:.2f}\")\n",
    "print(f\"Median Petal Length: {median_petal_length:.2f}\")\n",
    "print(f\"Median Petal Width: {median_petal_width:.2f}\")\n"
   ]
  },
  {
   "cell_type": "code",
   "execution_count": null,
   "metadata": {},
   "outputs": [],
   "source": []
  },
  {
   "cell_type": "markdown",
   "metadata": {},
   "source": [
    "#### **Task 2:** Implement the models"
   ]
  }
 ],
 "metadata": {
  "kernelspec": {
   "display_name": "CP322_venv",
   "language": "python",
   "name": "python3"
  },
  "language_info": {
   "codemirror_mode": {
    "name": "ipython",
    "version": 3
   },
   "file_extension": ".py",
   "mimetype": "text/x-python",
   "name": "python",
   "nbconvert_exporter": "python",
   "pygments_lexer": "ipython3",
   "version": "3.10.8"
  },
  "orig_nbformat": 4
 },
 "nbformat": 4,
 "nbformat_minor": 2
}
